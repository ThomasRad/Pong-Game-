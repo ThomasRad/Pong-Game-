{
 "cells": [
  {
   "cell_type": "markdown",
   "metadata": {},
   "source": [
    "### Creating Pong game inside python. Youtube Tutorial. "
   ]
  },
  {
   "cell_type": "code",
   "execution_count": 1,
   "metadata": {},
   "outputs": [],
   "source": [
    "# import the packages we need. \n",
    "\n",
    "import turtle "
   ]
  },
  {
   "cell_type": "code",
   "execution_count": 2,
   "metadata": {},
   "outputs": [],
   "source": [
    "# Create a window and give it a title. \n",
    "\n",
    "wn = turtle.Screen()\n",
    "wn.title(\"Pong\")\n",
    "\n",
    "# Change the background color to black.\n",
    "\n",
    "wn.bgcolor(\"black\")\n",
    "\n",
    "# Chnage the size of the window.\n",
    "\n",
    "wn.setup(width = 800, height = 600)\n",
    "wn.tracer(0)\n",
    "\n",
    "# Score \n",
    "score_a = 0\n",
    "score_b = 0 \n",
    "\n"
   ]
  },
  {
   "cell_type": "code",
   "execution_count": 3,
   "metadata": {},
   "outputs": [],
   "source": [
    "# Add a paddle.\n",
    "\n",
    "# Paddle A. \n",
    "\n",
    "Paddle_a = turtle.Turtle()\n",
    "Paddle_a.speed(0)\n",
    "\n",
    "# Define the shape of the paddle\n",
    "\n",
    "Paddle_a.shape('square')\n",
    "\n",
    "# And resize the shape to the right dims\n",
    "\n",
    "Paddle_a.shapesize(stretch_wid= 5, stretch_len = 1)\n",
    "\n",
    "#Define the color of it. \n",
    "\n",
    "Paddle_a.color('white')\n",
    "\n",
    "Paddle_a.penup()\n",
    "\n",
    "# We want our paddle to be located at a certian spot in the window. \n",
    "\n",
    "Paddle_a.goto(-350, 0)"
   ]
  },
  {
   "cell_type": "code",
   "execution_count": 4,
   "metadata": {},
   "outputs": [],
   "source": [
    "# Paddle B \n",
    "\n",
    "Paddle_b = turtle.Turtle()\n",
    "Paddle_b.speed(0)\n",
    "\n",
    "# Define the shape of the paddle\n",
    "\n",
    "Paddle_b.shape('square')\n",
    "\n",
    "# And resize the shape to the right dims\n",
    "\n",
    "Paddle_b.shapesize(stretch_wid= 5,stretch_len = 1 )\n",
    "\n",
    "#Define the color of it. \n",
    "\n",
    "Paddle_b.color('white')\n",
    "\n",
    "Paddle_b.penup()\n",
    "\n",
    "# We want our paddle to be located at a certian spot in the window. \n",
    "\n",
    "Paddle_b.goto(350, 0)"
   ]
  },
  {
   "cell_type": "code",
   "execution_count": 5,
   "metadata": {},
   "outputs": [],
   "source": [
    "# Create our ball. \n",
    "\n",
    "Ball = turtle.Turtle()\n",
    "Ball.speed(0)\n",
    "\n",
    "# Define the shape of the paddle\n",
    "\n",
    "Ball.shape('square')\n",
    "\n",
    "#Define the color of it. \n",
    "\n",
    "Ball.color('white')\n",
    "\n",
    "Ball.penup()\n",
    "\n",
    "# We want our ball to be located at a certian spot in the window. \n",
    "\n",
    "Ball.goto(0, 0)"
   ]
  },
  {
   "cell_type": "code",
   "execution_count": 6,
   "metadata": {},
   "outputs": [],
   "source": [
    "# Move Paddle A.\n",
    "\n",
    "def Paddle_a_up():\n",
    "    y = Paddle_a.ycor()\n",
    "    y += 20 \n",
    "    Paddle_a.sety(y)\n",
    "    \n",
    "# Bind the function to key. \n",
    "\n",
    "wn.listen()\n",
    "wn.onkeypress(Paddle_a_up, 'w')\n",
    "\n",
    "def Paddle_a_down():\n",
    "    y = Paddle_a.ycor()\n",
    "    y -= 20 \n",
    "    Paddle_a.sety(y)\n",
    "    \n",
    "# Bind the function to key. \n",
    "\n",
    "wn.listen()\n",
    "wn.onkeypress(Paddle_a_down, 's')"
   ]
  },
  {
   "cell_type": "code",
   "execution_count": 7,
   "metadata": {},
   "outputs": [],
   "source": [
    "# Move Paddle B.\n",
    "\n",
    "def Paddle_b_up():\n",
    "    y = Paddle_b.ycor()\n",
    "    y += 20 \n",
    "    Paddle_b.sety(y)\n",
    "    \n",
    "# Bind the function to key. \n",
    "\n",
    "wn.listen()\n",
    "wn.onkeypress(Paddle_b_up, 'o')\n",
    "\n",
    "def Paddle_b_down():\n",
    "    y = Paddle_b.ycor()\n",
    "    y -= 20 \n",
    "    Paddle_b.sety(y)\n",
    "    \n",
    "# Bind the function to key. \n",
    "\n",
    "wn.listen()\n",
    "wn.onkeypress(Paddle_b_down, 'l')"
   ]
  },
  {
   "cell_type": "code",
   "execution_count": 8,
   "metadata": {},
   "outputs": [],
   "source": [
    "# Moving the ball. \n",
    "\n",
    "Ball.dx = 0.25\n",
    "Ball.dy = -0.25\n"
   ]
  },
  {
   "cell_type": "code",
   "execution_count": 9,
   "metadata": {},
   "outputs": [],
   "source": [
    "# Create a scoreboard.\n",
    "\n",
    "pen = turtle.Turtle()\n",
    "pen.speed(0)\n",
    "pen.color('white')\n",
    "pen.penup()\n",
    "pen.hideturtle()\n",
    "pen.goto(0,260)\n",
    "pen.write(\"Player 1: 0   Player 2: 0\", align = 'center', font=('Courier', 24, 'normal'))"
   ]
  },
  {
   "cell_type": "code",
   "execution_count": 10,
   "metadata": {
    "scrolled": true
   },
   "outputs": [
    {
     "ename": "TclError",
     "evalue": "invalid command name \".!canvas\"",
     "output_type": "error",
     "traceback": [
      "\u001b[1;31m---------------------------------------------------------------------------\u001b[0m",
      "\u001b[1;31mTclError\u001b[0m                                  Traceback (most recent call last)",
      "\u001b[1;32m<ipython-input-10-79dec98df0ae>\u001b[0m in \u001b[0;36m<module>\u001b[1;34m\u001b[0m\n\u001b[0;32m      6\u001b[0m     \u001b[1;31m# Ball movemnet.\u001b[0m\u001b[1;33m\u001b[0m\u001b[1;33m\u001b[0m\u001b[1;33m\u001b[0m\u001b[0m\n\u001b[0;32m      7\u001b[0m \u001b[1;33m\u001b[0m\u001b[0m\n\u001b[1;32m----> 8\u001b[1;33m     \u001b[0mBall\u001b[0m\u001b[1;33m.\u001b[0m\u001b[0msetx\u001b[0m\u001b[1;33m(\u001b[0m\u001b[0mBall\u001b[0m\u001b[1;33m.\u001b[0m\u001b[0mxcor\u001b[0m\u001b[1;33m(\u001b[0m\u001b[1;33m)\u001b[0m \u001b[1;33m+\u001b[0m \u001b[0mBall\u001b[0m\u001b[1;33m.\u001b[0m\u001b[0mdx\u001b[0m\u001b[1;33m)\u001b[0m\u001b[1;33m\u001b[0m\u001b[1;33m\u001b[0m\u001b[0m\n\u001b[0m\u001b[0;32m      9\u001b[0m     \u001b[0mBall\u001b[0m\u001b[1;33m.\u001b[0m\u001b[0msety\u001b[0m\u001b[1;33m(\u001b[0m\u001b[0mBall\u001b[0m\u001b[1;33m.\u001b[0m\u001b[0mycor\u001b[0m\u001b[1;33m(\u001b[0m\u001b[1;33m)\u001b[0m \u001b[1;33m+\u001b[0m \u001b[0mBall\u001b[0m\u001b[1;33m.\u001b[0m\u001b[0mdy\u001b[0m\u001b[1;33m)\u001b[0m\u001b[1;33m\u001b[0m\u001b[1;33m\u001b[0m\u001b[0m\n\u001b[0;32m     10\u001b[0m \u001b[1;33m\u001b[0m\u001b[0m\n",
      "\u001b[1;32m~\\anaconda3\\lib\\turtle.py\u001b[0m in \u001b[0;36msetx\u001b[1;34m(self, x)\u001b[0m\n\u001b[0;32m   1806\u001b[0m         \u001b[1;33m(\u001b[0m\u001b[1;36m10.00\u001b[0m\u001b[1;33m,\u001b[0m \u001b[1;36m240.00\u001b[0m\u001b[1;33m)\u001b[0m\u001b[1;33m\u001b[0m\u001b[1;33m\u001b[0m\u001b[0m\n\u001b[0;32m   1807\u001b[0m         \"\"\"\n\u001b[1;32m-> 1808\u001b[1;33m         \u001b[0mself\u001b[0m\u001b[1;33m.\u001b[0m\u001b[0m_goto\u001b[0m\u001b[1;33m(\u001b[0m\u001b[0mVec2D\u001b[0m\u001b[1;33m(\u001b[0m\u001b[0mx\u001b[0m\u001b[1;33m,\u001b[0m \u001b[0mself\u001b[0m\u001b[1;33m.\u001b[0m\u001b[0m_position\u001b[0m\u001b[1;33m[\u001b[0m\u001b[1;36m1\u001b[0m\u001b[1;33m]\u001b[0m\u001b[1;33m)\u001b[0m\u001b[1;33m)\u001b[0m\u001b[1;33m\u001b[0m\u001b[1;33m\u001b[0m\u001b[0m\n\u001b[0m\u001b[0;32m   1809\u001b[0m \u001b[1;33m\u001b[0m\u001b[0m\n\u001b[0;32m   1810\u001b[0m     \u001b[1;32mdef\u001b[0m \u001b[0msety\u001b[0m\u001b[1;33m(\u001b[0m\u001b[0mself\u001b[0m\u001b[1;33m,\u001b[0m \u001b[0my\u001b[0m\u001b[1;33m)\u001b[0m\u001b[1;33m:\u001b[0m\u001b[1;33m\u001b[0m\u001b[1;33m\u001b[0m\u001b[0m\n",
      "\u001b[1;32m~\\anaconda3\\lib\\turtle.py\u001b[0m in \u001b[0;36m_goto\u001b[1;34m(self, end)\u001b[0m\n\u001b[0;32m   3156\u001b[0m                       (self.currentLineItem,\n\u001b[0;32m   3157\u001b[0m                       \u001b[0mself\u001b[0m\u001b[1;33m.\u001b[0m\u001b[0mcurrentLine\u001b[0m\u001b[1;33m[\u001b[0m\u001b[1;33m:\u001b[0m\u001b[1;33m]\u001b[0m\u001b[1;33m,\u001b[0m\u001b[1;33m\u001b[0m\u001b[1;33m\u001b[0m\u001b[0m\n\u001b[1;32m-> 3158\u001b[1;33m                       \u001b[0mscreen\u001b[0m\u001b[1;33m.\u001b[0m\u001b[0m_pointlist\u001b[0m\u001b[1;33m(\u001b[0m\u001b[0mself\u001b[0m\u001b[1;33m.\u001b[0m\u001b[0mcurrentLineItem\u001b[0m\u001b[1;33m)\u001b[0m\u001b[1;33m,\u001b[0m\u001b[1;33m\u001b[0m\u001b[1;33m\u001b[0m\u001b[0m\n\u001b[0m\u001b[0;32m   3159\u001b[0m                       self.items[:])\n\u001b[0;32m   3160\u001b[0m                       )\n",
      "\u001b[1;32m~\\anaconda3\\lib\\turtle.py\u001b[0m in \u001b[0;36m_pointlist\u001b[1;34m(self, item)\u001b[0m\n\u001b[0;32m    753\u001b[0m         (9.9999999999999982, 0.0)]\n\u001b[0;32m    754\u001b[0m         >>> \"\"\"\n\u001b[1;32m--> 755\u001b[1;33m         \u001b[0mcl\u001b[0m \u001b[1;33m=\u001b[0m \u001b[0mself\u001b[0m\u001b[1;33m.\u001b[0m\u001b[0mcv\u001b[0m\u001b[1;33m.\u001b[0m\u001b[0mcoords\u001b[0m\u001b[1;33m(\u001b[0m\u001b[0mitem\u001b[0m\u001b[1;33m)\u001b[0m\u001b[1;33m\u001b[0m\u001b[1;33m\u001b[0m\u001b[0m\n\u001b[0m\u001b[0;32m    756\u001b[0m         \u001b[0mpl\u001b[0m \u001b[1;33m=\u001b[0m \u001b[1;33m[\u001b[0m\u001b[1;33m(\u001b[0m\u001b[0mcl\u001b[0m\u001b[1;33m[\u001b[0m\u001b[0mi\u001b[0m\u001b[1;33m]\u001b[0m\u001b[1;33m,\u001b[0m \u001b[1;33m-\u001b[0m\u001b[0mcl\u001b[0m\u001b[1;33m[\u001b[0m\u001b[0mi\u001b[0m\u001b[1;33m+\u001b[0m\u001b[1;36m1\u001b[0m\u001b[1;33m]\u001b[0m\u001b[1;33m)\u001b[0m \u001b[1;32mfor\u001b[0m \u001b[0mi\u001b[0m \u001b[1;32min\u001b[0m \u001b[0mrange\u001b[0m\u001b[1;33m(\u001b[0m\u001b[1;36m0\u001b[0m\u001b[1;33m,\u001b[0m \u001b[0mlen\u001b[0m\u001b[1;33m(\u001b[0m\u001b[0mcl\u001b[0m\u001b[1;33m)\u001b[0m\u001b[1;33m,\u001b[0m \u001b[1;36m2\u001b[0m\u001b[1;33m)\u001b[0m\u001b[1;33m]\u001b[0m\u001b[1;33m\u001b[0m\u001b[1;33m\u001b[0m\u001b[0m\n\u001b[0;32m    757\u001b[0m         \u001b[1;32mreturn\u001b[0m  \u001b[0mpl\u001b[0m\u001b[1;33m\u001b[0m\u001b[1;33m\u001b[0m\u001b[0m\n",
      "\u001b[1;32m<string>\u001b[0m in \u001b[0;36mcoords\u001b[1;34m(self, *args, **kw)\u001b[0m\n",
      "\u001b[1;32m~\\anaconda3\\lib\\tkinter\\__init__.py\u001b[0m in \u001b[0;36mcoords\u001b[1;34m(self, *args)\u001b[0m\n\u001b[0;32m   2467\u001b[0m         return [self.tk.getdouble(x) for x in\n\u001b[0;32m   2468\u001b[0m                            self.tk.splitlist(\n\u001b[1;32m-> 2469\u001b[1;33m                    self.tk.call((self._w, 'coords') + args))]\n\u001b[0m\u001b[0;32m   2470\u001b[0m     \u001b[1;32mdef\u001b[0m \u001b[0m_create\u001b[0m\u001b[1;33m(\u001b[0m\u001b[0mself\u001b[0m\u001b[1;33m,\u001b[0m \u001b[0mitemType\u001b[0m\u001b[1;33m,\u001b[0m \u001b[0margs\u001b[0m\u001b[1;33m,\u001b[0m \u001b[0mkw\u001b[0m\u001b[1;33m)\u001b[0m\u001b[1;33m:\u001b[0m \u001b[1;31m# Args: (val, val, ..., cnf={})\u001b[0m\u001b[1;33m\u001b[0m\u001b[1;33m\u001b[0m\u001b[0m\n\u001b[0;32m   2471\u001b[0m         \u001b[1;34m\"\"\"Internal function.\"\"\"\u001b[0m\u001b[1;33m\u001b[0m\u001b[1;33m\u001b[0m\u001b[0m\n",
      "\u001b[1;31mTclError\u001b[0m: invalid command name \".!canvas\""
     ]
    }
   ],
   "source": [
    "# Run the Game. \n",
    "\n",
    "while True:\n",
    "    wn.update()\n",
    "    \n",
    "    # Ball movemnet. \n",
    "    \n",
    "    Ball.setx(Ball.xcor() + Ball.dx)\n",
    "    Ball.sety(Ball.ycor() + Ball.dy)\n",
    "    \n",
    "    # Want it to bounch of the top and bottom.\n",
    "    \n",
    "    if Ball.ycor() > 290:\n",
    "        Ball.sety(290)\n",
    "        Ball.dy *= -1\n",
    "       \n",
    "    if Ball.ycor() < -290:\n",
    "        Ball.sety(-290)\n",
    "        Ball.dy *= -1\n",
    "        \n",
    "    # If the ball goes off the screen we want to reset. \n",
    "    \n",
    "    if Ball.xcor() > 390:\n",
    "        Ball.goto(0,0)\n",
    "        Ball.dx *= -1\n",
    "        score_a +=1\n",
    "        pen.clear()\n",
    "        pen.write(\"Player 1: {}   Player 2: {}\".format(score_a,score_b), align = 'center', font=('Courier', 24, 'normal'))\n",
    "\n",
    "          \n",
    "    if Ball.xcor() < -390:\n",
    "        Ball.goto(0,0)\n",
    "        Ball.dx *= -1\n",
    "        score_b += 1\n",
    "        pen.clear()\n",
    "        pen.write(\"Player 1: {}   Player 2: {}\".format(score_a,score_b), align = 'center', font=('Courier', 24, 'normal'))\n",
    "\n",
    "    # We create the paddle, ball bounce. \n",
    "    \n",
    "    if (Ball.xcor() > 340 and Ball.xcor() < 350) and (Ball.ycor() < Paddle_b.ycor() + 40 and Ball.ycor() > Paddle_b.ycor() - 50):\n",
    "        Ball.setx(340)\n",
    "        Ball.dx *= -1 \n",
    "        \n",
    "    if (Ball.xcor() < -340 and Ball.xcor() > -350) and (Ball.ycor() < Paddle_a.ycor() + 40 and Ball.ycor() > Paddle_a.ycor() - 50):\n",
    "        Ball.setx(-340)\n",
    "        Ball.dx *= -1 \n",
    "    \n",
    "    \n",
    "          "
   ]
  }
 ],
 "metadata": {
  "kernelspec": {
   "display_name": "Python 3",
   "language": "python",
   "name": "python3"
  },
  "language_info": {
   "codemirror_mode": {
    "name": "ipython",
    "version": 3
   },
   "file_extension": ".py",
   "mimetype": "text/x-python",
   "name": "python",
   "nbconvert_exporter": "python",
   "pygments_lexer": "ipython3",
   "version": "3.7.6"
  }
 },
 "nbformat": 4,
 "nbformat_minor": 4
}
